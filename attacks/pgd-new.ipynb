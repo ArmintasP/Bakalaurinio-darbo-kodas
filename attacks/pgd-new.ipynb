{
 "cells": [
  {
   "cell_type": "code",
   "execution_count": null,
   "id": "f7f953f3",
   "metadata": {},
   "outputs": [],
   "source": [
    "import sys\n",
    "import os\n",
    "import numpy as np\n",
    "import torch\n",
    "from art.estimators.classification import PyTorchClassifier\n",
    "from art.attacks.evasion import ProjectedGradientDescent\n",
    "from art.preprocessing.standardisation_mean_std import StandardisationMeanStdPyTorch\n",
    "import time\n",
    "import torch.nn.functional as F\n",
    "from pathlib import Path\n",
    "\n",
    "sys.path.append(os.path.abspath(\"../utils\"))\n",
    "import myextensions"
   ]
  },
  {
   "cell_type": "code",
   "execution_count": null,
   "id": "eb883e5b",
   "metadata": {},
   "outputs": [],
   "source": [
    "torch.manual_seed(123)\n",
    "np.random.seed(123)\n",
    "\n",
    "model = myextensions.get_vgg()\n",
    "\n",
    "DATASET_PATH = \"../../inputs/no-attack/\"\n",
    "ADVERSARY_IMAGE_PATH = \"../../inputs/adv-patch.JPEG\"\n",
    "\n",
    "MODE = \"with-preprocessing/pgd\"\n",
    "\n",
    "SAVE_DIR_PATH = f\"/home/cat/uni/bakis/inputs/{MODE}\"\n",
    "Path(f\"{SAVE_DIR_PATH}/fail\").mkdir(parents=True, exist_ok=True)\n",
    "Path(f\"{SAVE_DIR_PATH}/success\").mkdir(parents=True, exist_ok=True)\n",
    "\n"
   ]
  },
  {
   "cell_type": "code",
   "execution_count": null,
   "id": "f4703023",
   "metadata": {},
   "outputs": [],
   "source": [
    "preprocessor = StandardisationMeanStdPyTorch(mean=[0.485, 0.456, 0.406],\n",
    "                                             std=[0.229, 0.224, 0.225],\n",
    "                                             apply_fit=True,\n",
    "                                             apply_predict=True)\n",
    "\n",
    "loss_fn = torch.nn.CrossEntropyLoss()\n",
    "classifier = PyTorchClassifier(\n",
    "    model=model,\n",
    "    loss=loss_fn,\n",
    "    input_shape=(3, 224, 224),\n",
    "    nb_classes=1000,\n",
    "    clip_values=(0.0, 1.0),\n",
    "    preprocessing= preprocessor,\n",
    ")\n",
    "\n",
    "attack = ProjectedGradientDescent(\n",
    "    estimator=classifier,\n",
    "    norm=np.inf,\n",
    "    eps=0.03,\n",
    "    eps_step=0.005,\n",
    "    max_iter=100,\n",
    "    targeted=True,\n",
    "    verbose=True\n",
    ")\n"
   ]
  },
  {
   "cell_type": "code",
   "execution_count": null,
   "id": "cf106cd4",
   "metadata": {},
   "outputs": [],
   "source": [
    "timings = []\n",
    "adversay_image, adversay_image_np = myextensions.get_image(ADVERSARY_IMAGE_PATH, myextensions.PREPROCESS_ATTACK)\n",
    "adversary_preds = model(adversay_image)\n",
    "adversary_preds = F.softmax(adversary_preds, dim=1)\n",
    "adversary_preds = adversary_preds.detach().cpu().numpy()\n",
    "\n",
    "for filename in os.listdir(DATASET_PATH):\n",
    "    full_path = os.path.join(DATASET_PATH, filename)\n",
    "    _, input_image_np = myextensions.get_image(full_path, myextensions.PREPROCESS_ATTACK)\n",
    "\n",
    "    start_time = time.perf_counter()\n",
    "    x_adv = attack.generate(x=input_image_np, y = adversary_preds)\n",
    "    elapsed = time.perf_counter() - start_time\n",
    "\n",
    "    input_pred = np.argmax(classifier.predict(input_image_np), axis=1)\n",
    "    adv_pred = np.argmax(classifier.predict(x_adv), axis=1)\n",
    "\n",
    "    if (input_pred == adv_pred):\n",
    "        save_path = f'{SAVE_DIR_PATH}/fail'\n",
    "    else:\n",
    "        save_path = f'{SAVE_DIR_PATH}/success'\n",
    "\n",
    "    full_save_path = os.path.join(save_path, filename)\n",
    "    myextensions.save_attack_image(x_adv, full_save_path)\n",
    "\n",
    "    timings.append(elapsed)\n"
   ]
  },
  {
   "cell_type": "code",
   "execution_count": null,
   "id": "965b96f9",
   "metadata": {},
   "outputs": [],
   "source": [
    "def print_time(timings, filenum):\n",
    "    timings_np = np.array(timings)\n",
    "    with open(f'{SAVE_DIR_PATH}/time_statistics{filenum}.txt', \"w\") as f:\n",
    "        f.write(\"=== Attribution Time Stats ===\\n\")\n",
    "        f.write(f\"Total images:      {len(timings)}\\n\")\n",
    "        f.write(f\"Average time:      {timings_np.mean():.4f} s\\n\")\n",
    "        f.write(f\"Standard deviation:{timings_np.std():.4f} s\\n\")\n",
    "        f.write(f\"Minimum time:      {timings_np.min():.4f} s\\n\")\n",
    "        f.write(f\"Maximum time:      {timings_np.max():.4f} s\\n\")\n",
    "        f.write(f\"Epsilon: {attack.eps}\\n\")    \n",
    "\n",
    "print_time(timings, filenum=0)"
   ]
  }
 ],
 "metadata": {
  "kernelspec": {
   "display_name": "attacks",
   "language": "python",
   "name": "python3"
  },
  "language_info": {
   "codemirror_mode": {
    "name": "ipython",
    "version": 3
   },
   "file_extension": ".py",
   "mimetype": "text/x-python",
   "name": "python",
   "nbconvert_exporter": "python",
   "pygments_lexer": "ipython3",
   "version": "3.12.9"
  }
 },
 "nbformat": 4,
 "nbformat_minor": 5
}
