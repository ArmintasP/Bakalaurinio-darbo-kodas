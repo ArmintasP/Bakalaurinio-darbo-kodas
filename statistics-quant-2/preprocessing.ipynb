{
 "cells": [
  {
   "cell_type": "code",
   "execution_count": null,
   "id": "099d82eb",
   "metadata": {},
   "outputs": [],
   "source": [
    "import pandas as pd\n",
    "\n",
    "best_cols = df.iloc[:, :10].iloc[:, ::2]  # Columns: 0, 2, 4, 6, 8\n",
    "worst_cols = df.iloc[:, :10].iloc[:, 1::2]  # Columns: 1, 3, 5, 7, 9\n",
    "df = df.drop(columns=df.columns[:10])\n",
    "\n",
    "all_models = sorted(set(\n",
    "    model\n",
    "    for col in pd.concat([best_cols, worst_cols], axis=1).values.flatten()\n",
    "    for model in col.split(\";\")\n",
    "))\n",
    "\n",
    "for model in all_models:\n",
    "    df[f\"{model}_Best_Count\"] = best_cols.apply(lambda col: col.map(lambda x: model in x.split(\";\"))).sum(axis=1)\n",
    "    df[f\"{model}_Worst_Count\"] = worst_cols.apply(lambda col: col.map(lambda x: model in x.split(\";\"))).sum(axis=1)\n",
    "\n",
    "best_cols = df.iloc[:, :32].iloc[:, ::2]  # Columns: 0, 2, ..\n",
    "worst_cols = df.iloc[:, :32].iloc[:, 1::2]  # Columns: 1, 3, ...\n",
    "df = df.drop(columns=df.columns[:32])\n",
    "\n",
    "all_attacks = sorted(set(\n",
    "    attack\n",
    "    for col in pd.concat([best_cols, worst_cols], axis=1).values.flatten()\n",
    "    for attack in col.split(\";\")\n",
    "))\n",
    "\n",
    "for attack in all_attacks:\n",
    "    df[f\"{attack}_Best_Count\"] = best_cols.apply(lambda col: col.map(lambda x: attack in x.split(\";\"))).sum(axis=1)\n",
    "    df[f\"{attack}_Worst_Count\"] = worst_cols.apply(lambda col: col.map(lambda x: attack in x.split(\";\"))).sum(axis=1)\n",
    "\n",
    "most_sus_cols = df.iloc[:, :5]\n",
    "df = df.drop(columns=df.columns[:5])\n",
    "\n",
    "for attack in [\"B\", \"C\",\"D\",\"E\",\"F\",\"G\",\"H\"]:\n",
    "    df[f\"{attack}_MostSuspicious_Count\"] = most_sus_cols.apply(lambda col: col.map(lambda x: attack in x.split(\";\"))).sum(axis=1)\n",
    "\n",
    "df.head()\n",
    "df.to_csv(\"preprocessed_responses.csv\", index=False)\n"
   ]
  }
 ],
 "metadata": {
  "kernelspec": {
   "display_name": "captum",
   "language": "python",
   "name": "python3"
  },
  "language_info": {
   "codemirror_mode": {
    "name": "ipython",
    "version": 3
   },
   "file_extension": ".py",
   "mimetype": "text/x-python",
   "name": "python",
   "nbconvert_exporter": "python",
   "pygments_lexer": "ipython3",
   "version": "3.12.9"
  }
 },
 "nbformat": 4,
 "nbformat_minor": 5
}
